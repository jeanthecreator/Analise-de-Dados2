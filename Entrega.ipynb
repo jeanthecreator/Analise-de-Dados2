{
 "cells": [
  {
   "cell_type": "markdown",
   "metadata": {},
   "source": [
    "##### Entrega de Data Frame"
   ]
  },
  {
   "cell_type": "code",
   "execution_count": 1,
   "metadata": {},
   "outputs": [],
   "source": [
    "import pandas as pd"
   ]
  },
  {
   "cell_type": "code",
   "execution_count": 2,
   "metadata": {},
   "outputs": [
    {
     "name": "stderr",
     "output_type": "stream",
     "text": [
      "/tmp/ipykernel_5470/2415120530.py:2: DtypeWarning: Columns (22) have mixed types. Specify dtype option on import or set low_memory=False.\n",
      "  df2013 = pd.read_csv('/home/jean/Documents/Analise-de-Dados/Analise-de-Dados/df/reclamacoes-fundamentadas-sindec-2013.csv')\n",
      "/tmp/ipykernel_5470/2415120530.py:4: DtypeWarning: Columns (22) have mixed types. Specify dtype option on import or set low_memory=False.\n",
      "  df2015 = pd.read_csv('/home/jean/Documents/Analise-de-Dados/Analise-de-Dados/df/reclamacoes-fundamentadas-sindec-2015.csv')\n"
     ]
    }
   ],
   "source": [
    "df2012 = pd.read_csv('/home/jean/Documents/Analise-de-Dados/Analise-de-Dados/df/reclamacoes-fundamentadas-sindec-2012.csv')\n",
    "df2013 = pd.read_csv('/home/jean/Documents/Analise-de-Dados/Analise-de-Dados/df/reclamacoes-fundamentadas-sindec-2013.csv')\n",
    "df2014 = pd.read_csv('/home/jean/Documents/Analise-de-Dados/Analise-de-Dados/df/reclamacoes-fundamentadas-sindec-2014.csv')\n",
    "df2015 = pd.read_csv('/home/jean/Documents/Analise-de-Dados/Analise-de-Dados/df/reclamacoes-fundamentadas-sindec-2015.csv')\n",
    "df2016 = pd.read_csv('/home/jean/Documents/Analise-de-Dados/Analise-de-Dados/df/reclamacoes-fundamentadas-sindec-2016.csv')"
   ]
  },
  {
   "cell_type": "code",
   "execution_count": 4,
   "metadata": {},
   "outputs": [
    {
     "data": {
      "text/plain": [
       "((211076, 23), (268096, 23), (267764, 23), (255650, 23), (203486, 23))"
      ]
     },
     "execution_count": 4,
     "metadata": {},
     "output_type": "execute_result"
    }
   ],
   "source": [
    "df2012.shape, df2013.shape, df2014.shape, df2015.shape, df2016.shape"
   ]
  },
  {
   "cell_type": "code",
   "execution_count": 6,
   "metadata": {},
   "outputs": [],
   "source": [
    "df_lista = [df2012, df2013, df2014, df2015, df2016]"
   ]
  },
  {
   "cell_type": "code",
   "execution_count": 8,
   "metadata": {},
   "outputs": [],
   "source": [
    "df_Main = pd.concat(df_lista)"
   ]
  },
  {
   "cell_type": "code",
   "execution_count": 9,
   "metadata": {},
   "outputs": [
    {
     "data": {
      "text/plain": [
       "(1206072, 23)"
      ]
     },
     "execution_count": 9,
     "metadata": {},
     "output_type": "execute_result"
    }
   ],
   "source": [
    "df_Main.shape"
   ]
  },
  {
   "cell_type": "code",
   "execution_count": 10,
   "metadata": {},
   "outputs": [],
   "source": [
    "#df_Main.to_csv('/home/jean/Documents/Analise-de-Dados/Analise-de-Dados/df/reclamacoes-fundamentadas-sindec-Full.csv')"
   ]
  }
 ],
 "metadata": {
  "kernelspec": {
   "display_name": "Python 3.10.4 64-bit",
   "language": "python",
   "name": "python3"
  },
  "language_info": {
   "codemirror_mode": {
    "name": "ipython",
    "version": 3
   },
   "file_extension": ".py",
   "mimetype": "text/x-python",
   "name": "python",
   "nbconvert_exporter": "python",
   "pygments_lexer": "ipython3",
   "version": "3.10.4"
  },
  "orig_nbformat": 4,
  "vscode": {
   "interpreter": {
    "hash": "916dbcbb3f70747c44a77c7bcd40155683ae19c65e1c03b4aa3499c5328201f1"
   }
  }
 },
 "nbformat": 4,
 "nbformat_minor": 2
}
