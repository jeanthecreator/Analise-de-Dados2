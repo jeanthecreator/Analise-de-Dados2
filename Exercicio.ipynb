{
 "cells": [
  {
   "cell_type": "markdown",
   "metadata": {},
   "source": [
    "#### Carregar Datasets"
   ]
  },
  {
   "cell_type": "code",
   "execution_count": 1,
   "metadata": {},
   "outputs": [],
   "source": [
    "import pandas as pd"
   ]
  },
  {
   "cell_type": "code",
   "execution_count": 2,
   "metadata": {},
   "outputs": [],
   "source": [
    "previous_application = pd.read_csv('/home/jean/Documents/Analise-de-Dados/Analise-de-Dados/df/previous_application.csv', nrows=100000)\n",
    "application_data = pd.read_csv('/home/jean/Documents/Analise-de-Dados/Analise-de-Dados/df/application_data.csv')"
   ]
  },
  {
   "cell_type": "code",
   "execution_count": 3,
   "metadata": {},
   "outputs": [
    {
     "name": "stdout",
     "output_type": "stream",
     "text": [
      "<class 'pandas.core.frame.DataFrame'>\n",
      "RangeIndex: 100000 entries, 0 to 99999\n",
      "Data columns (total 37 columns):\n",
      " #   Column                       Non-Null Count   Dtype  \n",
      "---  ------                       --------------   -----  \n",
      " 0   SK_ID_PREV                   100000 non-null  int64  \n",
      " 1   SK_ID_CURR                   100000 non-null  int64  \n",
      " 2   NAME_CONTRACT_TYPE           100000 non-null  object \n",
      " 3   AMT_ANNUITY                  78867 non-null   float64\n",
      " 4   AMT_APPLICATION              100000 non-null  float64\n",
      " 5   AMT_CREDIT                   100000 non-null  float64\n",
      " 6   AMT_DOWN_PAYMENT             49416 non-null   float64\n",
      " 7   AMT_GOODS_PRICE              78400 non-null   float64\n",
      " 8   WEEKDAY_APPR_PROCESS_START   100000 non-null  object \n",
      " 9   HOUR_APPR_PROCESS_START      100000 non-null  int64  \n",
      " 10  FLAG_LAST_APPL_PER_CONTRACT  100000 non-null  object \n",
      " 11  NFLAG_LAST_APPL_IN_DAY       100000 non-null  int64  \n",
      " 12  RATE_DOWN_PAYMENT            49416 non-null   float64\n",
      " 13  RATE_INTEREST_PRIMARY        341 non-null     float64\n",
      " 14  RATE_INTEREST_PRIVILEGED     341 non-null     float64\n",
      " 15  NAME_CASH_LOAN_PURPOSE       100000 non-null  object \n",
      " 16  NAME_CONTRACT_STATUS         100000 non-null  object \n",
      " 17  DAYS_DECISION                100000 non-null  int64  \n",
      " 18  NAME_PAYMENT_TYPE            100000 non-null  object \n",
      " 19  CODE_REJECT_REASON           100000 non-null  object \n",
      " 20  NAME_TYPE_SUITE              51516 non-null   object \n",
      " 21  NAME_CLIENT_TYPE             100000 non-null  object \n",
      " 22  NAME_GOODS_CATEGORY          100000 non-null  object \n",
      " 23  NAME_PORTFOLIO               100000 non-null  object \n",
      " 24  NAME_PRODUCT_TYPE            100000 non-null  object \n",
      " 25  CHANNEL_TYPE                 100000 non-null  object \n",
      " 26  SELLERPLACE_AREA             100000 non-null  int64  \n",
      " 27  NAME_SELLER_INDUSTRY         100000 non-null  object \n",
      " 28  CNT_PAYMENT                  78867 non-null   float64\n",
      " 29  NAME_YIELD_GROUP             100000 non-null  object \n",
      " 30  PRODUCT_COMBINATION          99983 non-null   object \n",
      " 31  DAYS_FIRST_DRAWING           61880 non-null   float64\n",
      " 32  DAYS_FIRST_DUE               61880 non-null   float64\n",
      " 33  DAYS_LAST_DUE_1ST_VERSION    61880 non-null   float64\n",
      " 34  DAYS_LAST_DUE                61880 non-null   float64\n",
      " 35  DAYS_TERMINATION             61880 non-null   float64\n",
      " 36  NFLAG_INSURED_ON_APPROVAL    61880 non-null   float64\n",
      "dtypes: float64(15), int64(6), object(16)\n",
      "memory usage: 28.2+ MB\n"
     ]
    },
    {
     "data": {
      "text/plain": [
       "((100000, 37), None)"
      ]
     },
     "execution_count": 3,
     "metadata": {},
     "output_type": "execute_result"
    }
   ],
   "source": [
    "previous_application.shape, previous_application.info()"
   ]
  },
  {
   "cell_type": "code",
   "execution_count": 4,
   "metadata": {},
   "outputs": [
    {
     "name": "stdout",
     "output_type": "stream",
     "text": [
      "<class 'pandas.core.frame.DataFrame'>\n",
      "RangeIndex: 307511 entries, 0 to 307510\n",
      "Columns: 122 entries, SK_ID_CURR to AMT_REQ_CREDIT_BUREAU_YEAR\n",
      "dtypes: float64(65), int64(41), object(16)\n",
      "memory usage: 286.2+ MB\n"
     ]
    },
    {
     "data": {
      "text/plain": [
       "((307511, 122), None)"
      ]
     },
     "execution_count": 4,
     "metadata": {},
     "output_type": "execute_result"
    }
   ],
   "source": [
    "application_data.shape, application_data.info()"
   ]
  },
  {
   "cell_type": "markdown",
   "metadata": {},
   "source": [
    "#### Merger Datasets"
   ]
  },
  {
   "cell_type": "code",
   "execution_count": 5,
   "metadata": {},
   "outputs": [],
   "source": [
    "df = application_data.merge(previous_application, left_on='SK_ID_CURR', right_on='SK_ID_CURR', how='inner')"
   ]
  },
  {
   "cell_type": "code",
   "execution_count": 6,
   "metadata": {},
   "outputs": [
    {
     "data": {
      "text/plain": [
       "(84752, 158)"
      ]
     },
     "execution_count": 6,
     "metadata": {},
     "output_type": "execute_result"
    }
   ],
   "source": [
    "df.shape"
   ]
  },
  {
   "cell_type": "code",
   "execution_count": 7,
   "metadata": {},
   "outputs": [
    {
     "name": "stdout",
     "output_type": "stream",
     "text": [
      "Index(['NAME_CONTRACT_TYPE_x', 'CODE_GENDER', 'FLAG_OWN_CAR',\n",
      "       'FLAG_OWN_REALTY', 'NAME_TYPE_SUITE_x', 'NAME_INCOME_TYPE',\n",
      "       'NAME_EDUCATION_TYPE', 'NAME_FAMILY_STATUS', 'NAME_HOUSING_TYPE',\n",
      "       'OCCUPATION_TYPE', 'WEEKDAY_APPR_PROCESS_START_x', 'ORGANIZATION_TYPE',\n",
      "       'FONDKAPREMONT_MODE', 'HOUSETYPE_MODE', 'WALLSMATERIAL_MODE',\n",
      "       'EMERGENCYSTATE_MODE', 'NAME_CONTRACT_TYPE_y',\n",
      "       'WEEKDAY_APPR_PROCESS_START_y', 'FLAG_LAST_APPL_PER_CONTRACT',\n",
      "       'NAME_CASH_LOAN_PURPOSE', 'NAME_CONTRACT_STATUS', 'NAME_PAYMENT_TYPE',\n",
      "       'CODE_REJECT_REASON', 'NAME_TYPE_SUITE_y', 'NAME_CLIENT_TYPE',\n",
      "       'NAME_GOODS_CATEGORY', 'NAME_PORTFOLIO', 'NAME_PRODUCT_TYPE',\n",
      "       'CHANNEL_TYPE', 'NAME_SELLER_INDUSTRY', 'NAME_YIELD_GROUP',\n",
      "       'PRODUCT_COMBINATION'],\n",
      "      dtype='object')\n"
     ]
    }
   ],
   "source": [
    "#Lista de Objetos\n",
    "objList = df.select_dtypes(include='object').columns\n",
    "print(objList)"
   ]
  },
  {
   "cell_type": "code",
   "execution_count": 8,
   "metadata": {},
   "outputs": [
    {
     "data": {
      "text/plain": [
       "SK_ID_CURR                       0\n",
       "TARGET                           0\n",
       "NAME_CONTRACT_TYPE_x             0\n",
       "CODE_GENDER                      0\n",
       "FLAG_OWN_CAR                     0\n",
       "                             ...  \n",
       "DAYS_FIRST_DUE               31799\n",
       "DAYS_LAST_DUE_1ST_VERSION    31799\n",
       "DAYS_LAST_DUE                31799\n",
       "DAYS_TERMINATION             31799\n",
       "NFLAG_INSURED_ON_APPROVAL    31799\n",
       "Length: 158, dtype: int64"
      ]
     },
     "execution_count": 8,
     "metadata": {},
     "output_type": "execute_result"
    }
   ],
   "source": [
    "#Soma de dados faltantes (isnull ou isna)\n",
    "df.isnull().sum()"
   ]
  },
  {
   "cell_type": "code",
   "execution_count": 9,
   "metadata": {},
   "outputs": [
    {
     "name": "stdout",
     "output_type": "stream",
     "text": [
      "SK_ID_CURR                    0.000000\n",
      "TARGET                        0.000000\n",
      "NAME_CONTRACT_TYPE_x          0.000000\n",
      "CODE_GENDER                   0.000000\n",
      "FLAG_OWN_CAR                  0.000000\n",
      "                               ...    \n",
      "DAYS_FIRST_DUE               37.520059\n",
      "DAYS_LAST_DUE_1ST_VERSION    37.520059\n",
      "DAYS_LAST_DUE                37.520059\n",
      "DAYS_TERMINATION             37.520059\n",
      "NFLAG_INSURED_ON_APPROVAL    37.520059\n",
      "Length: 158, dtype: float64\n"
     ]
    },
    {
     "data": {
      "text/plain": [
       "64"
      ]
     },
     "execution_count": 9,
     "metadata": {},
     "output_type": "execute_result"
    }
   ],
   "source": [
    "dados_faltantes_percentual = df.isna().sum()*100/len(df)\n",
    "print(dados_faltantes_percentual)\n",
    "\n",
    "#filtra colunas com mais de 20% de dados faltando\n",
    "dados_faltando_perc_columns = dados_faltantes_percentual[dados_faltantes_percentual>=20]\n",
    "dados_faltando_perc_columns.count()"
   ]
  },
  {
   "cell_type": "code",
   "execution_count": 10,
   "metadata": {},
   "outputs": [],
   "source": [
    "#Filtrar dados faltantes\n",
    "\n",
    "#Removendo com mais de 20% de dados faltando\n",
    "filtrado_df = df.drop(columns=dados_faltando_perc_columns.index)\n"
   ]
  },
  {
   "cell_type": "code",
   "execution_count": 11,
   "metadata": {},
   "outputs": [],
   "source": [
    "#Preenchendo com a função backfill ou ffill\n",
    "\n",
    "filtrado_df = filtrado_df.fillna(method='backfill')"
   ]
  },
  {
   "cell_type": "code",
   "execution_count": 12,
   "metadata": {},
   "outputs": [
    {
     "data": {
      "text/plain": [
       "SK_ID_CURR              0\n",
       "TARGET                  0\n",
       "NAME_CONTRACT_TYPE_x    0\n",
       "CODE_GENDER             0\n",
       "FLAG_OWN_CAR            0\n",
       "                       ..\n",
       "CHANNEL_TYPE            0\n",
       "SELLERPLACE_AREA        0\n",
       "NAME_SELLER_INDUSTRY    0\n",
       "NAME_YIELD_GROUP        0\n",
       "PRODUCT_COMBINATION     0\n",
       "Length: 94, dtype: int64"
      ]
     },
     "execution_count": 12,
     "metadata": {},
     "output_type": "execute_result"
    }
   ],
   "source": [
    "filtrado_df.isna().sum()"
   ]
  },
  {
   "cell_type": "markdown",
   "metadata": {},
   "source": [
    "#### Modelo Preditivo"
   ]
  },
  {
   "cell_type": "code",
   "execution_count": 13,
   "metadata": {},
   "outputs": [],
   "source": [
    "# Bibliotecas para o modelo e feature engineering\n",
    "from sklearn import preprocessing\n",
    "from sklearn.model_selection import train_test_split\n",
    "from sklearn.metrics import confusion_matrix\n",
    "from sklearn.metrics import (roc_curve,\n",
    "                             recall_score,\n",
    "                             accuracy_score,\n",
    "                             roc_auc_score,\n",
    "                             precision_score,\n",
    "                             f1_score)\n",
    "\n",
    "from sklearn.model_selection import KFold \n",
    "\n",
    "from sklearn.model_selection import GridSearchCV, RandomizedSearchCV\n",
    "\n",
    "from sklearn.ensemble import (AdaBoostClassifier, \n",
    "                              GradientBoostingClassifier, \n",
    "                              ExtraTreesClassifier,\n",
    "                              RandomForestClassifier)\n",
    "from sklearn.svm import SVC, LinearSVC\n",
    "from sklearn.neighbors import KNeighborsClassifier\n",
    "from sklearn.linear_model import LogisticRegression\n",
    "import lightgbm as lgb"
   ]
  },
  {
   "cell_type": "markdown",
   "metadata": {},
   "source": [
    "##### Ajustando os dados"
   ]
  },
  {
   "cell_type": "code",
   "execution_count": 14,
   "metadata": {},
   "outputs": [],
   "source": [
    "le = preprocessing.LabelEncoder()"
   ]
  },
  {
   "cell_type": "code",
   "execution_count": 15,
   "metadata": {},
   "outputs": [],
   "source": [
    "# Transformar variaveis categoricas em numericas (Sim e não em 0 e 1)\n",
    "# Ainda não entendi essa transformação\n",
    "\n",
    "cat_cols = filtrado_df.select_dtypes(include='object').columns #Variavel com pouca informação\n",
    "\n",
    "for i in cat_cols:\n",
    "    filtrado_df[i] = le.fit_transform(filtrado_df[i])"
   ]
  },
  {
   "cell_type": "code",
   "execution_count": 16,
   "metadata": {},
   "outputs": [],
   "source": [
    "# Colocando SK_ID_CURR como index\n",
    "\n",
    "filtrado_df.set_index('SK_ID_CURR', inplace = True) \n"
   ]
  }
 ],
 "metadata": {
  "kernelspec": {
   "display_name": "Python 3.10.4 64-bit",
   "language": "python",
   "name": "python3"
  },
  "language_info": {
   "codemirror_mode": {
    "name": "ipython",
    "version": 3
   },
   "file_extension": ".py",
   "mimetype": "text/x-python",
   "name": "python",
   "nbconvert_exporter": "python",
   "pygments_lexer": "ipython3",
   "version": "3.10.6"
  },
  "orig_nbformat": 4,
  "vscode": {
   "interpreter": {
    "hash": "916dbcbb3f70747c44a77c7bcd40155683ae19c65e1c03b4aa3499c5328201f1"
   }
  }
 },
 "nbformat": 4,
 "nbformat_minor": 2
}
