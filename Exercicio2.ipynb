{
 "cells": [
  {
   "cell_type": "markdown",
   "metadata": {},
   "source": [
    "#### Novo Exercicio"
   ]
  },
  {
   "cell_type": "code",
   "execution_count": 12,
   "metadata": {},
   "outputs": [],
   "source": [
    "import pandas as pd\n",
    "import matplotlib.pyplot as plt\n",
    "import seaborn as sns\n",
    "import pandas as pd"
   ]
  },
  {
   "cell_type": "code",
   "execution_count": 2,
   "metadata": {},
   "outputs": [
    {
     "name": "stdout",
     "output_type": "stream",
     "text": [
      "<class 'pandas.core.frame.DataFrame'>\n",
      "RangeIndex: 78273 entries, 0 to 78272\n",
      "Data columns (total 11 columns):\n",
      " #   Column                Non-Null Count  Dtype  \n",
      "---  ------                --------------  -----  \n",
      " 0   id                    78273 non-null  int64  \n",
      " 1   Gender                78273 non-null  object \n",
      " 2   Age                   78273 non-null  int64  \n",
      " 3   Driving_License       78273 non-null  int64  \n",
      " 4   Region_Code           78273 non-null  float64\n",
      " 5   Previously_Insured    78273 non-null  int64  \n",
      " 6   Vehicle_Age           78273 non-null  object \n",
      " 7   Vehicle_Damage        78273 non-null  object \n",
      " 8   Annual_Premium        78273 non-null  float64\n",
      " 9   Policy_Sales_Channel  78273 non-null  float64\n",
      " 10  Vintage               78273 non-null  int64  \n",
      "dtypes: float64(3), int64(5), object(3)\n",
      "memory usage: 6.6+ MB\n"
     ]
    }
   ],
   "source": [
    "df_teste = pd.read_csv('/home/jean/Documents/Analise-de-Dados/Analise-de-Dados/df/aug_test.csv')\n",
    "df_teste.shape\n",
    "df_teste.info()"
   ]
  },
  {
   "cell_type": "code",
   "execution_count": 3,
   "metadata": {},
   "outputs": [
    {
     "name": "stdout",
     "output_type": "stream",
     "text": [
      "<class 'pandas.core.frame.DataFrame'>\n",
      "RangeIndex: 382154 entries, 0 to 382153\n",
      "Data columns (total 12 columns):\n",
      " #   Column                Non-Null Count   Dtype  \n",
      "---  ------                --------------   -----  \n",
      " 0   id                    382154 non-null  int64  \n",
      " 1   Gender                382154 non-null  object \n",
      " 2   Age                   382154 non-null  int64  \n",
      " 3   Driving_License       382154 non-null  int64  \n",
      " 4   Region_Code           382154 non-null  float64\n",
      " 5   Previously_Insured    382154 non-null  int64  \n",
      " 6   Vehicle_Age           382154 non-null  object \n",
      " 7   Vehicle_Damage        382154 non-null  object \n",
      " 8   Annual_Premium        382154 non-null  float64\n",
      " 9   Policy_Sales_Channel  382154 non-null  float64\n",
      " 10  Vintage               382154 non-null  int64  \n",
      " 11  Response              382154 non-null  int64  \n",
      "dtypes: float64(3), int64(6), object(3)\n",
      "memory usage: 35.0+ MB\n"
     ]
    }
   ],
   "source": [
    "df_train = pd.read_csv('/home/jean/Documents/Analise-de-Dados/Analise-de-Dados/df/aug_train.csv')\n",
    "df_train.shape\n",
    "df_train.info()"
   ]
  },
  {
   "cell_type": "code",
   "execution_count": 4,
   "metadata": {},
   "outputs": [],
   "source": [
    "df_teste['Response'] = 2\n",
    "df_full =[df_teste, df_train]\n",
    "df_full = pd.concat(df_full)\n"
   ]
  },
  {
   "cell_type": "code",
   "execution_count": 5,
   "metadata": {},
   "outputs": [
    {
     "name": "stdout",
     "output_type": "stream",
     "text": [
      "Index(['Gender', 'Vehicle_Age', 'Vehicle_Damage'], dtype='object')\n"
     ]
    }
   ],
   "source": [
    "obj = df_full.select_dtypes(include='object').columns\n",
    "print(obj)"
   ]
  },
  {
   "cell_type": "code",
   "execution_count": 11,
   "metadata": {},
   "outputs": [
    {
     "name": "stdout",
     "output_type": "stream",
     "text": [
      "id                        0.0\n",
      "genero                    0.0\n",
      "idade                     0.0\n",
      "cnh                       0.0\n",
      "codigo_regiao             0.0\n",
      "segurado_anteriormente    0.0\n",
      "idade_veiculo             0.0\n",
      "danos_veiculo             0.0\n",
      "premio_anual              0.0\n",
      "politica_canal_vendas     0.0\n",
      "dias_segurado             0.0\n",
      "resposta                  0.0\n",
      "dtype: float64\n"
     ]
    }
   ],
   "source": [
    "#Verificação de Dados Faltantes\n",
    "\n",
    "df_verificado = df_full.isna().sum()*100/len(df_full)\n",
    "print(df_verificado)"
   ]
  },
  {
   "cell_type": "code",
   "execution_count": 7,
   "metadata": {},
   "outputs": [
    {
     "name": "stderr",
     "output_type": "stream",
     "text": [
      "/home/jean/.local/lib/python3.10/site-packages/tqdm/auto.py:22: TqdmWarning: IProgress not found. Please update jupyter and ipywidgets. See https://ipywidgets.readthedocs.io/en/stable/user_install.html\n",
      "  from .autonotebook import tqdm as notebook_tqdm\n"
     ]
    }
   ],
   "source": [
    "from turtle import title\n",
    "from pandas_profiling import ProfileReport\n",
    "\n",
    "profile = ProfileReport(df_full, title='Pandas Profiling Report', explorative=True)"
   ]
  },
  {
   "cell_type": "code",
   "execution_count": 8,
   "metadata": {},
   "outputs": [
    {
     "name": "stderr",
     "output_type": "stream",
     "text": [
      "Summarize dataset:  67%|██████▋   | 16/24 [00:13<00:03,  2.48it/s, Calculate kendall correlation]         /home/jean/.local/lib/python3.10/site-packages/scipy/stats/_stats_py.py:5215: RuntimeWarning: overflow encountered in long_scalars\n",
      "  (2 * xtie * ytie) / m + x0 * y0 / (9 * m * (size - 2)))\n",
      "Summarize dataset: 100%|██████████| 75/75 [00:55<00:00,  1.35it/s, Completed]                                         \n",
      "Generate report structure: 100%|██████████| 1/1 [00:07<00:00,  7.34s/it]\n",
      "Render HTML: 100%|██████████| 1/1 [00:02<00:00,  2.82s/it]\n",
      "Export report to file: 100%|██████████| 1/1 [00:00<00:00, 140.13it/s]\n"
     ]
    }
   ],
   "source": [
    "profile.to_file('report.html')"
   ]
  },
  {
   "cell_type": "code",
   "execution_count": null,
   "metadata": {},
   "outputs": [],
   "source": [
    "#profile.to_widgets()"
   ]
  },
  {
   "cell_type": "code",
   "execution_count": 10,
   "metadata": {},
   "outputs": [],
   "source": [
    "# Renomeando as Colunas\n",
    "df_full.columns = ['id', 'genero', 'idade', 'cnh', 'codigo_regiao',\n",
    "       'segurado_anteriormente', 'idade_veiculo', 'danos_veiculo', 'premio_anual',\n",
    "       'politica_canal_vendas', 'dias_segurado', 'resposta']"
   ]
  },
  {
   "cell_type": "code",
   "execution_count": 15,
   "metadata": {},
   "outputs": [
    {
     "name": "stderr",
     "output_type": "stream",
     "text": [
      "/home/jean/.local/lib/python3.10/site-packages/seaborn/_decorators.py:36: FutureWarning: Pass the following variable as a keyword arg: x. From version 0.12, the only valid positional argument will be `data`, and passing other arguments without an explicit keyword will result in an error or misinterpretation.\n",
      "  warnings.warn(\n"
     ]
    },
    {
     "data": {
      "text/plain": [
       "Text(0, 0.5, '')"
      ]
     },
     "execution_count": 15,
     "metadata": {},
     "output_type": "execute_result"
    }
   ],
   "source": [
    "f, ax = plt.subplots(1,2, figsize=(10,5))\n",
    "df_full['resposta'].value_counts().plot.pie(autopct='%0.2f%%', ax=ax[0])\n",
    "ax[0].set_title('resposta')\n",
    "ax[0].set_ylabel('')\n",
    "sns.countplot('resposta',data=df_full, ax=ax[1])\n",
    "ax[1].set_title('resposta')\n",
    "ax[1].set_ylabel('')"
   ]
  }
 ],
 "metadata": {
  "kernelspec": {
   "display_name": "Python 3.10.4 64-bit",
   "language": "python",
   "name": "python3"
  },
  "language_info": {
   "codemirror_mode": {
    "name": "ipython",
    "version": 3
   },
   "file_extension": ".py",
   "mimetype": "text/x-python",
   "name": "python",
   "nbconvert_exporter": "python",
   "pygments_lexer": "ipython3",
   "version": "3.10.4"
  },
  "orig_nbformat": 4,
  "vscode": {
   "interpreter": {
    "hash": "916dbcbb3f70747c44a77c7bcd40155683ae19c65e1c03b4aa3499c5328201f1"
   }
  }
 },
 "nbformat": 4,
 "nbformat_minor": 2
}
