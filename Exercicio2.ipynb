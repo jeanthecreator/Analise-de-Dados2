{
 "cells": [
  {
   "cell_type": "markdown",
   "metadata": {},
   "source": [
    "#### Novo Exercicio"
   ]
  },
  {
   "cell_type": "code",
   "execution_count": 24,
   "metadata": {},
   "outputs": [],
   "source": [
    "import pandas as pd"
   ]
  },
  {
   "cell_type": "code",
   "execution_count": 2,
   "metadata": {},
   "outputs": [
    {
     "name": "stdout",
     "output_type": "stream",
     "text": [
      "<class 'pandas.core.frame.DataFrame'>\n",
      "RangeIndex: 78273 entries, 0 to 78272\n",
      "Data columns (total 11 columns):\n",
      " #   Column                Non-Null Count  Dtype  \n",
      "---  ------                --------------  -----  \n",
      " 0   id                    78273 non-null  int64  \n",
      " 1   Gender                78273 non-null  object \n",
      " 2   Age                   78273 non-null  int64  \n",
      " 3   Driving_License       78273 non-null  int64  \n",
      " 4   Region_Code           78273 non-null  float64\n",
      " 5   Previously_Insured    78273 non-null  int64  \n",
      " 6   Vehicle_Age           78273 non-null  object \n",
      " 7   Vehicle_Damage        78273 non-null  object \n",
      " 8   Annual_Premium        78273 non-null  float64\n",
      " 9   Policy_Sales_Channel  78273 non-null  float64\n",
      " 10  Vintage               78273 non-null  int64  \n",
      "dtypes: float64(3), int64(5), object(3)\n",
      "memory usage: 6.6+ MB\n"
     ]
    }
   ],
   "source": [
    "df_teste = pd.read_csv('/home/jean/Documents/Analise-de-Dados/Analise-de-Dados/df/aug_test.csv')\n",
    "df_teste.shape\n",
    "df_teste.info()"
   ]
  },
  {
   "cell_type": "code",
   "execution_count": 3,
   "metadata": {},
   "outputs": [
    {
     "name": "stdout",
     "output_type": "stream",
     "text": [
      "<class 'pandas.core.frame.DataFrame'>\n",
      "RangeIndex: 382154 entries, 0 to 382153\n",
      "Data columns (total 12 columns):\n",
      " #   Column                Non-Null Count   Dtype  \n",
      "---  ------                --------------   -----  \n",
      " 0   id                    382154 non-null  int64  \n",
      " 1   Gender                382154 non-null  object \n",
      " 2   Age                   382154 non-null  int64  \n",
      " 3   Driving_License       382154 non-null  int64  \n",
      " 4   Region_Code           382154 non-null  float64\n",
      " 5   Previously_Insured    382154 non-null  int64  \n",
      " 6   Vehicle_Age           382154 non-null  object \n",
      " 7   Vehicle_Damage        382154 non-null  object \n",
      " 8   Annual_Premium        382154 non-null  float64\n",
      " 9   Policy_Sales_Channel  382154 non-null  float64\n",
      " 10  Vintage               382154 non-null  int64  \n",
      " 11  Response              382154 non-null  int64  \n",
      "dtypes: float64(3), int64(6), object(3)\n",
      "memory usage: 35.0+ MB\n"
     ]
    }
   ],
   "source": [
    "df_train = pd.read_csv('/home/jean/Documents/Analise-de-Dados/Analise-de-Dados/df/aug_train.csv')\n",
    "df_train.shape\n",
    "df_train.info()"
   ]
  },
  {
   "cell_type": "code",
   "execution_count": 18,
   "metadata": {},
   "outputs": [],
   "source": [
    "df_teste['Response'] = 2\n",
    "df_full =[df_teste, df_train]\n",
    "df = pd.concat(df_full)\n"
   ]
  },
  {
   "cell_type": "code",
   "execution_count": 20,
   "metadata": {},
   "outputs": [
    {
     "name": "stdout",
     "output_type": "stream",
     "text": [
      "Index(['Gender', 'Vehicle_Age', 'Vehicle_Damage'], dtype='object')\n"
     ]
    }
   ],
   "source": [
    "obj = df.select_dtypes(include='object').columns\n",
    "print(obj)"
   ]
  },
  {
   "cell_type": "code",
   "execution_count": 23,
   "metadata": {},
   "outputs": [
    {
     "name": "stdout",
     "output_type": "stream",
     "text": [
      "id                      0.0\n",
      "Gender                  0.0\n",
      "Age                     0.0\n",
      "Driving_License         0.0\n",
      "Region_Code             0.0\n",
      "Previously_Insured      0.0\n",
      "Vehicle_Age             0.0\n",
      "Vehicle_Damage          0.0\n",
      "Annual_Premium          0.0\n",
      "Policy_Sales_Channel    0.0\n",
      "Vintage                 0.0\n",
      "Response                0.0\n",
      "dtype: float64\n"
     ]
    }
   ],
   "source": [
    "#Verificação de Dados Faltantes\n",
    "\n",
    "df_verificado = df.isna().sum()*100/len(df_full)\n",
    "print(df_verificado)"
   ]
  },
  {
   "cell_type": "code",
   "execution_count": null,
   "metadata": {},
   "outputs": [],
   "source": [
    "# Bibliotecas para o modelo e feature engineering\n",
    "from sklearn import preprocessing\n",
    "from sklearn.model_selection import train_test_split\n",
    "from sklearn.metrics import confusion_matrix\n",
    "from sklearn.metrics import (roc_curve,\n",
    "                             recall_score,\n",
    "                             accuracy_score,\n",
    "                             roc_auc_score,\n",
    "                             precision_score,\n",
    "                             f1_score)\n",
    "\n",
    "from sklearn.model_selection import KFold \n",
    "\n",
    "from sklearn.model_selection import GridSearchCV, RandomizedSearchCV\n",
    "\n",
    "from sklearn.ensemble import (AdaBoostClassifier, \n",
    "                              GradientBoostingClassifier, \n",
    "                              ExtraTreesClassifier,\n",
    "                              RandomForestClassifier)\n",
    "from sklearn.svm import SVC, LinearSVC\n",
    "from sklearn.neighbors import KNeighborsClassifier\n",
    "from sklearn.linear_model import LogisticRegression\n",
    "import lightgbm as lgb"
   ]
  }
 ],
 "metadata": {
  "kernelspec": {
   "display_name": "Python 3.10.4 64-bit",
   "language": "python",
   "name": "python3"
  },
  "language_info": {
   "codemirror_mode": {
    "name": "ipython",
    "version": 3
   },
   "file_extension": ".py",
   "mimetype": "text/x-python",
   "name": "python",
   "nbconvert_exporter": "python",
   "pygments_lexer": "ipython3",
   "version": "3.10.4"
  },
  "orig_nbformat": 4,
  "vscode": {
   "interpreter": {
    "hash": "916dbcbb3f70747c44a77c7bcd40155683ae19c65e1c03b4aa3499c5328201f1"
   }
  }
 },
 "nbformat": 4,
 "nbformat_minor": 2
}
